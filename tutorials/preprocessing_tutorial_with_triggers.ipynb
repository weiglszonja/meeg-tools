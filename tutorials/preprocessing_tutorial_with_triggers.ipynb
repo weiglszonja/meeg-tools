{
 "cells": [
  {
   "cell_type": "markdown",
   "metadata": {},
   "source": [
    "# Preprocessing pipeline\n",
    "\n",
    "\n",
    "This pipeline aims to serve as a semiautomatic and reproducible framework for preprocessing EEG signals before performing time-frequency-based analysis. It minimizes the manual steps required to clean the data based on visual inspection. It is advised to revisit the cleaned epochs before writing the final preprocessed file. \n",
    "\n",
    "\n",
    "## Outline\n",
    "\n",
    "1. __Temporal filtering__\n",
    "\n",
    "High-frequency artefacts and slow drifts are removed with a zero-phase bandpass filter using mne-Python [1]. The cutoff frequencies (0.5 - 45 Hz) can be modified in the utils folder in the configuration file (config.py). \n",
    "\n",
    "\n",
    "2. __Create epochs__ \n",
    "\n",
    "Epochs are nonoverlapping data segments created from the continuous data with a duration of 1 seconds. The length of epochs can be changed in the configuration file.\n",
    "Epochs can be created from (1) events; there is a custom method that created epochs based on annotations in the raw data, (2) without events, data segments are created from the beginning of the raw data. \n",
    "\n",
    "\n",
    "3. __Outlier data rejection__  \n",
    "\n",
    "    3.1. _Preliminar rejection_  \n",
    "Epochs are rejected based on a global threshold on the z-score (> 3) of the epoch variance and amplitude range.\n",
    "\n",
    "    3.2. _ICA decomposition_  \n",
    "The default method is the infomax algorithm, however it can be changed in the configuration file along with the number of components and the decimation parameter. Components containing blink artefacts are automatically marked with mne-Python.\n",
    "The ICA sourced can be visualized and interactively selected and rejected based on their topographies, time-courses or frequency spectra. The number of components that were removed from the data are documented in the “description” field of the epochs instance “info” structure.\n",
    "\n",
    "    3.3. _Autoreject_  \n",
    "Autoreject [2, 3] uses unsupervised learning to estimate the rejection threshold for the epochs. In order to reduce computation time that increases with the number of segments and channels, autoreject can be fitted on a representative subset of epochs (25% of total epochs). Once the parameters are learned, the solution can be applied to any data that contains channels that were used during fit.\n",
    "\n",
    "\n",
    "4. __Outlier channel interpolation__\n",
    "\n",
    "The Random Sample Consensus (RANSAC) algorithm [4] selects a random subsample of good channels to make predictions of each channel in small non-overlapping 4 seconds long time windows. It uses a method of spherical splines (Perrin et al., 1989) to interpolate the bad sensors. The sensors that were interpolated are added to the \"description\" field of the epochs \"info\" structure. \n",
    "\n",
    "\n",
    "<img src=\"static/preprocessing_pipeline_diagram.svg\">\n",
    "\n",
    "\n",
    "## References\n",
    "\n",
    "[1] A. Gramfort, M. Luessi, E. Larson, D. Engemann, D. Strohmeier, C. Brodbeck, R. Goj, M. Jas, T. Brooks, L. Parkkonen, M. Hämäläinen, MEG and EEG data analysis with MNE-Python, Frontiers in Neuroscience, Volume 7, 2013, ISSN 1662-453X\n",
    "\n",
    "[2] Mainak Jas, Denis Engemann, Federico Raimondo, Yousra Bekhti, and Alexandre Gramfort, “Automated rejection and repair of bad trials in MEG/EEG.” In 6th International Workshop on Pattern Recognition in Neuroimaging (PRNI), 2016.\n",
    "\n",
    "[3] Mainak Jas, Denis Engemann, Yousra Bekhti, Federico Raimondo, and Alexandre Gramfort. 2017. “Autoreject: Automated artifact rejection for MEG and EEG data”. NeuroImage, 159, 417-429.\n",
    "\n",
    "[4] Bigdely-Shamlo, N., Mullen, T., Kothe, C., Su, K. M., & Robbins, K. A. (2015). The PREP pipeline: standardized preprocessing for large-scale EEG analysis. Frontiers in neuroinformatics, 9, 16.\n",
    "\n"
   ]
  },
  {
   "cell_type": "markdown",
   "metadata": {},
   "source": [
    "## Import packages\n",
    "\n",
    "\n",
    "```%matplotlib qt``` is the recommended backend for interactive visualization (can be slower);    \n",
    "\n",
    "switch to ```%matplotlib inline``` for (faster) static plots"
   ]
  },
  {
   "cell_type": "code",
   "execution_count": 19,
   "metadata": {
    "pycharm": {
     "is_executing": true
    }
   },
   "outputs": [],
   "source": [
    "import os\n",
    "from ipyfilechooser import FileChooser\n",
    "\n",
    "from meeg_tools.preprocessing import *\n",
    "from meeg_tools.utils.epochs import create_epochs_from_events, create_metadata\n",
    "from meeg_tools.utils.raw import read_raw_measurement, filter_raw\n",
    "from meeg_tools.utils.log import update_log\n",
    "\n",
    "from meeg_tools.utils.config import settings\n",
    "\n",
    "from matplotlib import pyplot as plt\n",
    "%matplotlib qt"
   ]
  },
  {
   "cell_type": "code",
   "execution_count": null,
   "metadata": {},
   "outputs": [],
   "source": []
  },
  {
   "cell_type": "markdown",
   "metadata": {},
   "source": [
    "## Load raw data\n",
    "\n",
    "\n",
    "See [this](https://mne.tools/stable/auto_tutorials/io/20_reading_eeg_data.html) documentation for help with supported file formats.  "
   ]
  },
  {
   "cell_type": "code",
   "execution_count": 2,
   "metadata": {
    "pycharm": {
     "is_executing": true
    }
   },
   "outputs": [
    {
     "data": {
      "application/vnd.jupyter.widget-view+json": {
       "model_id": "0979dab262b841578c39ffe5e8479df2",
       "version_major": 2,
       "version_minor": 0
      },
      "text/plain": [
       "FileChooser(path='D:\\TMS_rewiring', filename='', title='', show_hidden=False, select_desc='Select', change_des…"
      ]
     },
     "metadata": {},
     "output_type": "display_data"
    }
   ],
   "source": [
    "# Use the widget to navigate to the experiment folder path and select an EEG file \n",
    "base_path = 'D:/TMS_rewiring/'\n",
    "fc = FileChooser(base_path)\n",
    "fc.filter_pattern = ['*.vhdr', '*.edf']\n",
    "\n",
    "display(fc)"
   ]
  },
  {
   "cell_type": "code",
   "execution_count": 3,
   "metadata": {
    "pycharm": {
     "is_executing": true
    }
   },
   "outputs": [
    {
     "name": "stdout",
     "output_type": "stream",
     "text": [
      "Extracting parameters from D:\\TMS_rewiring\\Raw_data\\17_E\\Day1\\EEG\\17_E_Day1.vhdr...\n",
      "Setting channel info structure...\n"
     ]
    },
    {
     "data": {
      "text/html": [
       "\n",
       "<table class=\"table table-hover table-striped table-sm table-responsive small\">\n",
       "    <tr>\n",
       "        <th>Measurement date</th>\n",
       "        <td>December 17, 2020  09:26:36 GMT</td>\n",
       "        \n",
       "    </tr>\n",
       "    <tr>\n",
       "        <th>Experimenter</th>\n",
       "<td>Unknown</td>\n",
       "    </tr>\n",
       "        <th>Participant</th>\n",
       "<td>Unknown</td>\n",
       "    </tr>\n",
       "    <tr>\n",
       "        <th>Digitized points</th>\n",
       "        <td>64 points</td>\n",
       "    </tr>\n",
       "    <tr>\n",
       "        <th>Good channels</th>\n",
       "        <td>64 EEG</td>\n",
       "    </tr>\n",
       "    <tr>\n",
       "        <th>Bad channels</th>\n",
       "        <td>None</td>\n",
       "    </tr>\n",
       "    <tr>\n",
       "        <th>EOG channels</th>\n",
       "        <td>Not available</td>\n",
       "    </tr>\n",
       "    <tr>\n",
       "        <th>ECG channels</th>\n",
       "        <td>Not available</td>\n",
       "    <tr>\n",
       "        <th>Sampling frequency</th>\n",
       "        <td>500.00 Hz</td>\n",
       "    </tr>\n",
       "    <tr>\n",
       "        <th>Highpass</th>\n",
       "        <td>0.02 Hz</td>\n",
       "    </tr>\n",
       "    <tr>\n",
       "        <th>Lowpass</th>\n",
       "        <td>1000.00 Hz</td>\n",
       "    </tr>\n",
       "</table>\n"
      ],
      "text/plain": [
       "<Info | 9 non-empty values\n",
       " bads: []\n",
       " ch_names: Fp1, Fz, F3, F7, FT9, FC5, FC1, C3, T7, TP9, CP5, CP1, Pz, P3, ...\n",
       " chs: 64 EEG\n",
       " custom_ref_applied: False\n",
       " dig: 64 items (64 EEG)\n",
       " highpass: 0.0 Hz\n",
       " lowpass: 1000.0 Hz\n",
       " meas_date: 2020-12-17 09:26:36 UTC\n",
       " nchan: 64\n",
       " projs: []\n",
       " sfreq: 500.0 Hz\n",
       " temp: 17_E_Day1\n",
       ">"
      ]
     },
     "execution_count": 3,
     "metadata": {},
     "output_type": "execute_result"
    }
   ],
   "source": [
    "# Load selected file\n",
    "raw = read_raw_measurement(raw_file_path=fc.selected)\n",
    "raw.info"
   ]
  },
  {
   "cell_type": "markdown",
   "metadata": {},
   "source": [
    "## Temporal filtering\n",
    "\n",
    "- bandpass filter (0.5 - 45 Hz)"
   ]
  },
  {
   "cell_type": "code",
   "execution_count": 4,
   "metadata": {},
   "outputs": [
    {
     "name": "stdout",
     "output_type": "stream",
     "text": [
      "Reading 0 ... 3294249  =      0.000 ...  6588.498 secs...\n",
      "Filtering raw data in 1 contiguous segment\n",
      "Setting up band-pass filter from 0.5 - 45 Hz\n",
      "\n",
      "FIR filter parameters\n",
      "---------------------\n",
      "Designing a one-pass, zero-phase, non-causal bandpass filter:\n",
      "- Windowed time-domain design (firwin) method\n",
      "- Hamming window with 0.0194 passband ripple and 53 dB stopband attenuation\n",
      "- Lower passband edge: 0.50\n",
      "- Lower transition bandwidth: 0.50 Hz (-6 dB cutoff frequency: 0.25 Hz)\n",
      "- Upper passband edge: 45.00 Hz\n",
      "- Upper transition bandwidth: 11.25 Hz (-6 dB cutoff frequency: 50.62 Hz)\n",
      "- Filter length: 3301 samples (6.602 sec)\n",
      "\n"
     ]
    },
    {
     "name": "stderr",
     "output_type": "stream",
     "text": [
      "[Parallel(n_jobs=8)]: Using backend LokyBackend with 8 concurrent workers.\n",
      "[Parallel(n_jobs=8)]: Done  10 tasks      | elapsed:    2.7s\n",
      "[Parallel(n_jobs=8)]: Done  64 out of  64 | elapsed:    8.0s finished\n"
     ]
    }
   ],
   "source": [
    "raw_bandpass = filter_raw(raw)"
   ]
  },
  {
   "cell_type": "markdown",
   "metadata": {},
   "source": [
    "## Create epochs\n",
    "\n",
    "- select the events for analysis"
   ]
  },
  {
   "cell_type": "code",
   "execution_count": 5,
   "metadata": {},
   "outputs": [],
   "source": [
    "settings['epochs']['start_time'] = -0.25\n",
    "settings['epochs']['end_time'] = 0.75"
   ]
  },
  {
   "cell_type": "code",
   "execution_count": 6,
   "metadata": {},
   "outputs": [
    {
     "name": "stdout",
     "output_type": "stream",
     "text": [
      "Used Annotations descriptions: ['New Segment/', 'Stimulus/S  5', 'Stimulus/S 10', 'Stimulus/S 11', 'Stimulus/S 12', 'Stimulus/S 14', 'Stimulus/S 15', 'Stimulus/S 16', 'Stimulus/S 17', 'Stimulus/S 18', 'Stimulus/S 19', 'Stimulus/S 20', 'Stimulus/S 21', 'Stimulus/S 22', 'Stimulus/S 24', 'Stimulus/S 25', 'Stimulus/S 26', 'Stimulus/S 27', 'Stimulus/S 28', 'Stimulus/S 29', 'Stimulus/S 30', 'Stimulus/S 31', 'Stimulus/S 32', 'Stimulus/S 34', 'Stimulus/S 35', 'Stimulus/S 36', 'Stimulus/S 37', 'Stimulus/S 38', 'Stimulus/S 39', 'Stimulus/S 40', 'Stimulus/S 41', 'Stimulus/S 42', 'Stimulus/S 43', 'Stimulus/S 44', 'Stimulus/S 45', 'Stimulus/S 46', 'Stimulus/S 47', 'Stimulus/S 48', 'Stimulus/S 49', 'Stimulus/S 51', 'Stimulus/S 52', 'Stimulus/S 61', 'Stimulus/S 62', 'Stimulus/S 63', 'Stimulus/S 64', 'Stimulus/S 65', 'Stimulus/S 66', 'Stimulus/S 67', 'Stimulus/S 68', 'Stimulus/S 69', 'Stimulus/S 70', 'Stimulus/S 71', 'Stimulus/S 72', 'Stimulus/S 75', 'Stimulus/S 76', 'Stimulus/S 77', 'Stimulus/S 78', 'Stimulus/S 80', 'Stimulus/S 81', 'Stimulus/S 83', 'Stimulus/S 84', 'Stimulus/S 85', 'Stimulus/S 87', 'Stimulus/S 88', 'Stimulus/S 89', 'Stimulus/S 91', 'Stimulus/S 92', 'Stimulus/S 93', 'Stimulus/S 94', 'Stimulus/S 95', 'Stimulus/S 96', 'Stimulus/S 97', 'Stimulus/S 98', 'Stimulus/S 99', 'Stimulus/S100', 'Stimulus/S103', 'Stimulus/S104', 'Stimulus/S106', 'Stimulus/S160', 'Stimulus/S161', 'Stimulus/S162', 'Stimulus/S163', 'Stimulus/S164', 'Stimulus/S165', 'Stimulus/S200', 'Stimulus/S201', 'Stimulus/S202', 'Stimulus/S203', 'Stimulus/S205', 'Stimulus/S210', 'Stimulus/S211', 'Stimulus/S212', 'Stimulus/S213', 'Stimulus/S214', 'Stimulus/S215']\n",
      "Creating epochs from selected events ...\n",
      "Not setting metadata\n",
      "Not setting metadata\n",
      "6571 matching events found\n",
      "No baseline correction applied\n",
      "0 projection items activated\n"
     ]
    }
   ],
   "source": [
    "events_ids = np.concatenate([np.arange(10, 53, 1), \n",
    "                             np.arange(10, 53, 1) + 100,\n",
    "                            [211, 212, 213, 214, 215, 216]])\n",
    "\n",
    "epochs = create_epochs_from_events(raw=raw_bandpass, event_ids=[events_ids])"
   ]
  },
  {
   "cell_type": "markdown",
   "metadata": {},
   "source": [
    "## Create metadata for epochs (optional)\n",
    "\n",
    "- adding metadata makes it easier to select epochs of different types\n",
    "- custom triggers are selected from the raw instance\n",
    "\n",
    "- metadata can be added or replaced later (e.g. after preprocessing)"
   ]
  },
  {
   "cell_type": "code",
   "execution_count": 7,
   "metadata": {},
   "outputs": [
    {
     "name": "stdout",
     "output_type": "stream",
     "text": [
      "Found these indices for these epoch boundary events: \n",
      "211\t1311\n",
      "212\t2615\n",
      "213\t3936\n",
      "214\t5247\n",
      "215\t6570\n",
      "Adding metadata with 8 columns\n"
     ]
    }
   ],
   "source": [
    "metadata = create_metadata(epochs)\n",
    "metadata.head(10)\n",
    "\n",
    "epochs.metadata = metadata"
   ]
  },
  {
   "cell_type": "code",
   "execution_count": 8,
   "metadata": {},
   "outputs": [],
   "source": [
    "# subselecting epochs \n",
    "# Here we could also include thrills, repetitions, or practice stimuli.\n",
    "# ICA should not run on duplicate data (epochs should not be overlapping!)\n",
    "\n",
    "epochs = epochs[\"triplet == 'L' | triplet == 'H'\"]\n",
    "epochs = epochs[\"answer == 'correct'\"]"
   ]
  },
  {
   "cell_type": "markdown",
   "metadata": {},
   "source": [
    "## Run preprocessing\n",
    "\n",
    "\n",
    "### 1.1. Preliminary epoch rejection"
   ]
  },
  {
   "cell_type": "code",
   "execution_count": 9,
   "metadata": {
    "pycharm": {
     "is_executing": true
    }
   },
   "outputs": [
    {
     "name": "stdout",
     "output_type": "stream",
     "text": [
      "Preliminary epoch rejection: \n",
      "Loading data for 1630 events and 501 original time points ...\n",
      "0 bad epochs dropped\n",
      "Bad epochs by amplitude\n",
      "\t[ 115  468  532  533  583  622  712  924  933  966 1066 1078 1092 1103\n",
      " 1178 1228 1243 1258 1277 1284 1312 1336 1337 1338 1352 1353 1354 1357\n",
      " 1366 1378 1380 1383 1404 1416 1421 1446 1456 1459 1463 1464 1474 1478\n",
      " 1490 1504 1513 1516 1520 1522 1524 1526 1528 1533 1544 1548 1553 1587\n",
      " 1602 1603 1609 1611 1620]\n",
      "Bad epochs by deviation\n",
      "\t[ 491  583  596  652  790  814  915 1042 1149 1277 1337 1352 1354 1378\n",
      " 1382 1383 1398 1406 1416 1446 1490 1522 1528 1533 1543 1553]\n",
      "Bad epochs by variance\n",
      "\t[ 468  532  533  583  589  622  651  657  666  712  718  915  924  947\n",
      "  966 1078 1092 1103 1117 1168 1178 1212 1217 1228 1229 1243 1258 1277\n",
      " 1284 1336 1337 1351 1352 1353 1354 1356 1357 1366 1378 1380 1382 1383\n",
      " 1384 1416 1436 1453 1456 1459 1463 1464 1474 1478 1485 1487 1490 1496\n",
      " 1501 1512 1513 1516 1520 1522 1524 1526 1528 1529 1530 1533 1538 1542\n",
      " 1543 1544 1546 1548 1551 1553 1560 1572 1587 1602 1603 1609 1611 1616\n",
      " 1617 1620 1622 1626]\n",
      "Dropped 106 epochs: 115, 468, 491, 532, 533, 583, 589, 596, 622, 651, 652, 657, 666, 712, 718, 790, 814, 915, 924, 933, 947, 966, 1042, 1066, 1078, 1092, 1103, 1117, 1149, 1168, 1178, 1212, 1217, 1228, 1229, 1243, 1258, 1277, 1284, 1312, 1336, 1337, 1338, 1351, 1352, 1353, 1354, 1356, 1357, 1366, 1378, 1380, 1382, 1383, 1384, 1398, 1404, 1406, 1416, 1421, 1436, 1446, 1453, 1456, 1459, 1463, 1464, 1474, 1478, 1485, 1487, 1490, 1496, 1501, 1504, 1512, 1513, 1516, 1520, 1522, 1524, 1526, 1528, 1529, 1530, 1533, 1538, 1542, 1543, 1544, 1546, 1548, 1551, 1553, 1560, 1572, 1587, 1602, 1603, 1609, 1611, 1616, 1617, 1620, 1622, 1626\n"
     ]
    }
   ],
   "source": [
    "epochs_faster = prepare_epochs_for_ica(epochs=epochs)"
   ]
  },
  {
   "cell_type": "markdown",
   "metadata": {},
   "source": [
    "### 1.2. Run ICA\n",
    "\n",
    "\n",
    "The parameters are: 32 ICA components using [\"infomax\"](https://mne.tools/stable/generated/mne.preprocessing.infomax.html) algorithm. \n",
    "\n",
    "When visualizing the components, it is recommended to subset the data (see below)."
   ]
  },
  {
   "cell_type": "code",
   "execution_count": 10,
   "metadata": {},
   "outputs": [],
   "source": [
    "settings['ica']['n_components'] = 32\n",
    "settings['ica']['method'] = 'picard'"
   ]
  },
  {
   "cell_type": "code",
   "execution_count": 11,
   "metadata": {
    "pycharm": {
     "is_executing": true
    }
   },
   "outputs": [
    {
     "name": "stdout",
     "output_type": "stream",
     "text": [
      "Fitting ICA to data using 64 channels (please be patient, this may take a while)\n",
      "Loading data for 1524 events and 501 original time points ...\n",
      "Selecting by number: 32 components\n",
      "Loading data for 1524 events and 501 original time points ...\n",
      "Fitting ICA took 66.3s.\n",
      "EOG channels are not found. Attempting to use Fp1,Fp2 channels as EOG channels.\n",
      "Using EOG channels: Fp1, Fp2\n",
      "Loading data for 1524 events and 501 original time points ...\n",
      "Loading data for 1524 events and 501 original time points ...\n",
      "Loading data for 1524 events and 501 original time points ...\n",
      "Loading data for 1524 events and 501 original time points ...\n"
     ]
    }
   ],
   "source": [
    "ica = run_ica(epochs=epochs_faster, fit_params=dict(ortho=True))"
   ]
  },
  {
   "cell_type": "code",
   "execution_count": null,
   "metadata": {},
   "outputs": [],
   "source": [
    "# Plot component topographies\n",
    "ica.plot_components()"
   ]
  },
  {
   "cell_type": "code",
   "execution_count": null,
   "metadata": {
    "pycharm": {
     "is_executing": true
    }
   },
   "outputs": [],
   "source": [
    "# Visualize components on epochs\n",
    "# Subset epochs to reduce execution time (e.g. take epochs from every 7th event)\n",
    "subset = list(epochs.event_id.keys())[::7]\n",
    "# Exclude components by selecting them, right click on component name to visulize source:\n",
    "ica.plot_sources(epochs_faster[subset])"
   ]
  },
  {
   "cell_type": "code",
   "execution_count": 12,
   "metadata": {
    "pycharm": {
     "is_executing": true
    }
   },
   "outputs": [
    {
     "name": "stdout",
     "output_type": "stream",
     "text": [
      "Loading data for 1524 events and 501 original time points ...\n",
      "Applying ICA to Epochs instance\n",
      "    Transforming to ICA space (32 components)\n",
      "    Zeroing out 1 ICA component\n",
      "    Projecting back using 64 PCA components\n"
     ]
    }
   ],
   "source": [
    "# After selecting the components to exclude, apply ICA to epochs\n",
    "# Documents the number of excluded components\n",
    "epochs_ica = apply_ica(epochs=epochs_faster, ica=ica)"
   ]
  },
  {
   "cell_type": "code",
   "execution_count": 13,
   "metadata": {},
   "outputs": [
    {
     "data": {
      "text/plain": [
       "'n_components: 1'"
      ]
     },
     "execution_count": 13,
     "metadata": {},
     "output_type": "execute_result"
    }
   ],
   "source": [
    "epochs_ica.info['description']"
   ]
  },
  {
   "cell_type": "markdown",
   "metadata": {},
   "source": [
    "### 1.3. Visualize ICA cleaned epochs (optional)\n",
    "\n",
    "This step can be repeated after each preprocessing step, or you can also do a final inspection at the end. "
   ]
  },
  {
   "cell_type": "code",
   "execution_count": null,
   "metadata": {
    "pycharm": {
     "is_executing": true
    }
   },
   "outputs": [],
   "source": [
    "# Optional\n",
    "epochs_ica[subset].plot(n_epochs=10, n_channels=32, scalings={'eeg': 20e-6},)"
   ]
  },
  {
   "cell_type": "markdown",
   "metadata": {},
   "source": [
    "### 1.4. Save cleaned epochs (recommended)"
   ]
  },
  {
   "cell_type": "code",
   "execution_count": 15,
   "metadata": {
    "pycharm": {
     "is_executing": true
    }
   },
   "outputs": [],
   "source": [
    "# Create folder for preprocessed and interim files\n",
    "folder_name = 'preprocessed'\n",
    "epochs_path = os.path.join(base_path, folder_name, 'epochs_asrt')\n",
    "\n",
    "\n",
    "# Create path to epoch files\n",
    "if not os.path.exists(epochs_path):\n",
    "    os.makedirs(epochs_path)\n",
    "\n",
    "# Save ICA cleaned epochs \n",
    "postfix = '-epo.fif.gz'\n",
    "epochs_ica.save(os.path.join(epochs_path, f'{epochs_ica.info[\"temp\"]}{postfix}'), overwrite=True)"
   ]
  },
  {
   "cell_type": "code",
   "execution_count": null,
   "metadata": {},
   "outputs": [],
   "source": [
    "print(epochs_ica.info)"
   ]
  },
  {
   "cell_type": "markdown",
   "metadata": {},
   "source": [
    "### 1.5. Create a log file \n",
    "\n",
    "We can create a log file for the preprocessed data and store metadata\n",
    "that could be useful to remember. You can add more columns to this, or \n",
    "remove the ones that are not needed. For documentation purporses, it is \n",
    "recommended to store the number of rejected and total epochs, the number of\n",
    "ICA components that were rejected, the number of interpolated electrodes etc.\n",
    "You can also add a column with \"notes\" to add custom descriptions about the data."
   ]
  },
  {
   "cell_type": "code",
   "execution_count": 16,
   "metadata": {},
   "outputs": [],
   "source": [
    "# Specify path to log file \n",
    "log_file_path = os.path.join(epochs_path, 'log.csv')\n",
    "# Add description for the preprocessed data (optional)\n",
    "notes = ''"
   ]
  },
  {
   "cell_type": "code",
   "execution_count": null,
   "metadata": {},
   "outputs": [],
   "source": []
  },
  {
   "cell_type": "code",
   "execution_count": 17,
   "metadata": {},
   "outputs": [
    {
     "data": {
      "text/html": [
       "<div>\n",
       "<style scoped>\n",
       "    .dataframe tbody tr th:only-of-type {\n",
       "        vertical-align: middle;\n",
       "    }\n",
       "\n",
       "    .dataframe tbody tr th {\n",
       "        vertical-align: top;\n",
       "    }\n",
       "\n",
       "    .dataframe thead th {\n",
       "        text-align: right;\n",
       "    }\n",
       "</style>\n",
       "<table border=\"1\" class=\"dataframe\">\n",
       "  <thead>\n",
       "    <tr style=\"text-align: right;\">\n",
       "      <th></th>\n",
       "      <th>fid</th>\n",
       "      <th>highpass</th>\n",
       "      <th>lowpass</th>\n",
       "      <th>n_components</th>\n",
       "      <th>n_bad_epochs</th>\n",
       "      <th>n_total_epochs</th>\n",
       "      <th>drop_percentage</th>\n",
       "      <th>stimuli</th>\n",
       "      <th>t_min</th>\n",
       "      <th>t_max</th>\n",
       "      <th>n_interpolated</th>\n",
       "      <th>average_ref_applied</th>\n",
       "      <th>baseline</th>\n",
       "      <th>notes</th>\n",
       "      <th>date_of_update</th>\n",
       "    </tr>\n",
       "  </thead>\n",
       "  <tbody>\n",
       "    <tr>\n",
       "      <th>0</th>\n",
       "      <td>17_E_Day1_ICA</td>\n",
       "      <td>0.5</td>\n",
       "      <td>45.0</td>\n",
       "      <td>1.0</td>\n",
       "      <td>106</td>\n",
       "      <td>1524</td>\n",
       "      <td>6.5</td>\n",
       "      <td>[10, 11, 12, 14, 15, 16]</td>\n",
       "      <td>-0.25</td>\n",
       "      <td>0.75</td>\n",
       "      <td>NaN</td>\n",
       "      <td>False</td>\n",
       "      <td>NaN</td>\n",
       "      <td></td>\n",
       "      <td>2021-11-25T15:37:29.650122</td>\n",
       "    </tr>\n",
       "  </tbody>\n",
       "</table>\n",
       "</div>"
      ],
      "text/plain": [
       "             fid  highpass  lowpass  n_components  n_bad_epochs  \\\n",
       "0  17_E_Day1_ICA       0.5     45.0           1.0           106   \n",
       "\n",
       "   n_total_epochs  drop_percentage                   stimuli  t_min  t_max  \\\n",
       "0            1524              6.5  [10, 11, 12, 14, 15, 16]  -0.25   0.75   \n",
       "\n",
       "   n_interpolated  average_ref_applied  baseline notes  \\\n",
       "0             NaN                False       NaN         \n",
       "\n",
       "               date_of_update  \n",
       "0  2021-11-25T15:37:29.650122  "
      ]
     },
     "execution_count": 17,
     "metadata": {},
     "output_type": "execute_result"
    }
   ],
   "source": [
    "update_log(log_file_path, epochs_ica, notes)"
   ]
  },
  {
   "cell_type": "markdown",
   "metadata": {},
   "source": [
    "### 2.1. Run autoreject"
   ]
  },
  {
   "cell_type": "code",
   "execution_count": 18,
   "metadata": {
    "pycharm": {
     "is_executing": true
    }
   },
   "outputs": [
    {
     "name": "stdout",
     "output_type": "stream",
     "text": [
      "Fitting autoreject on random (n=381) subset of epochs: \n",
      "Running autoreject on ch_type=eeg\n"
     ]
    },
    {
     "name": "stderr",
     "output_type": "stream",
     "text": [
      "Creating augmented epochs: 100%|████████████████████████████████████████████████████████████████████████████████████████████████████| 64/64 [00:08<00:00,  7.85it/s]\n",
      "Computing thresholds ...: 100%|█████████████████████████████████████████████████████████████████████████████████████████████████████| 64/64 [00:24<00:00,  2.64it/s]\n",
      "\n",
      "\n",
      "Repairing epochs:   0%|                                                                                                                     | 0/381 [00:00<?, ?it/s]\u001b[A\u001b[A\n",
      "\n",
      "Repairing epochs:   4%|████▍                                                                                                      | 16/381 [00:00<00:02, 159.30it/s]\u001b[A\u001b[A\n",
      "\n",
      "Repairing epochs:  11%|███████████▌                                                                                               | 41/381 [00:00<00:01, 211.14it/s]\u001b[A\u001b[A\n",
      "\n",
      "Repairing epochs:  18%|██████████████████▊                                                                                        | 67/381 [00:00<00:01, 232.32it/s]\u001b[A\u001b[A\n",
      "\n",
      "Repairing epochs:  24%|██████████████████████████                                                                                 | 93/381 [00:00<00:01, 241.27it/s]\u001b[A\u001b[A\n",
      "\n",
      "Repairing epochs:  32%|█████████████████████████████████▉                                                                        | 122/381 [00:00<00:01, 247.69it/s]\u001b[A\u001b[A\n",
      "\n",
      "Repairing epochs:  39%|█████████████████████████████████████████▏                                                                | 148/381 [00:00<00:00, 251.63it/s]\u001b[A\u001b[A\n",
      "\n",
      "Repairing epochs:  46%|████████████████████████████████████████████████▍                                                         | 174/381 [00:00<00:00, 249.16it/s]\u001b[A\u001b[A\n",
      "\n",
      "Repairing epochs:  52%|███████████████████████████████████████████████████████▎                                                  | 199/381 [00:00<00:00, 213.78it/s]\u001b[A\u001b[A\n",
      "\n",
      "Repairing epochs:  59%|██████████████████████████████████████████████████████████████▉                                           | 226/381 [00:00<00:00, 228.57it/s]\u001b[A\u001b[A\n",
      "\n",
      "Repairing epochs:  67%|██████████████████████████████████████████████████████████████████████▋                                   | 254/381 [00:01<00:00, 240.99it/s]\u001b[A\u001b[A\n",
      "\n",
      "Repairing epochs:  74%|██████████████████████████████████████████████████████████████████████████████▋                           | 283/381 [00:01<00:00, 252.71it/s]\u001b[A\u001b[A\n",
      "\n",
      "Repairing epochs:  81%|██████████████████████████████████████████████████████████████████████████████████████▏                   | 310/381 [00:01<00:00, 256.86it/s]\u001b[A\u001b[A\n",
      "\n",
      "Repairing epochs:  89%|██████████████████████████████████████████████████████████████████████████████████████████████            | 338/381 [00:01<00:00, 260.75it/s]\u001b[A\u001b[A\n",
      "\n",
      "Repairing epochs: 100%|██████████████████████████████████████████████████████████████████████████████████████████████████████████| 381/381 [00:01<00:00, 245.56it/s]\u001b[A\u001b[A\n",
      "\n",
      "n_interp:   0%|                                                                                                                               | 0/3 [00:00<?, ?it/s]\u001b[A\n",
      "\n",
      "Repairing epochs:   0%|                                                                                                                     | 0/381 [00:00<?, ?it/s]\u001b[A\u001b[A\n",
      "\n",
      "Repairing epochs:   1%|█▏                                                                                                           | 4/381 [00:00<00:10, 37.49it/s]\u001b[A\u001b[A\n",
      "\n",
      "Repairing epochs:   3%|███▋                                                                                                        | 13/381 [00:00<00:05, 65.16it/s]\u001b[A\u001b[A\n",
      "\n",
      "Repairing epochs:   5%|█████▋                                                                                                      | 20/381 [00:00<00:06, 60.16it/s]\u001b[A\u001b[A\n",
      "\n",
      "Repairing epochs:   7%|███████▋                                                                                                    | 27/381 [00:00<00:05, 63.38it/s]\u001b[A\u001b[A\n",
      "\n",
      "Repairing epochs:   9%|█████████▉                                                                                                  | 35/381 [00:00<00:05, 68.59it/s]\u001b[A\u001b[A\n",
      "\n",
      "Repairing epochs:  11%|████████████▏                                                                                               | 43/381 [00:00<00:04, 68.56it/s]\u001b[A\u001b[A\n",
      "\n",
      "Repairing epochs:  13%|██████████████▏                                                                                             | 50/381 [00:00<00:05, 59.25it/s]\u001b[A\u001b[A\n",
      "\n",
      "Repairing epochs:  15%|████████████████▏                                                                                           | 57/381 [00:00<00:06, 53.45it/s]\u001b[A\u001b[A\n",
      "\n",
      "Repairing epochs:  17%|██████████████████▋                                                                                         | 66/381 [00:01<00:05, 62.00it/s]\u001b[A\u001b[A\n",
      "\n",
      "Repairing epochs:  19%|████████████████████▋                                                                                       | 73/381 [00:01<00:05, 56.24it/s]\u001b[A\u001b[A\n",
      "\n",
      "Repairing epochs:  21%|██████████████████████▉                                                                                     | 81/381 [00:01<00:04, 60.40it/s]\u001b[A\u001b[A\n",
      "\n",
      "Repairing epochs:  23%|█████████████████████████▏                                                                                  | 89/381 [00:01<00:04, 64.75it/s]\u001b[A\u001b[A\n",
      "\n",
      "Repairing epochs:  25%|███████████████████████████▏                                                                                | 96/381 [00:01<00:05, 55.87it/s]\u001b[A\u001b[A\n",
      "\n",
      "Repairing epochs:  27%|████████████████████████████▋                                                                              | 102/381 [00:01<00:05, 55.16it/s]\u001b[A\u001b[A\n",
      "\n",
      "Repairing epochs:  28%|██████████████████████████████▎                                                                            | 108/381 [00:01<00:05, 54.34it/s]\u001b[A\u001b[A\n",
      "\n",
      "Repairing epochs:  30%|████████████████████████████████                                                                           | 114/381 [00:01<00:05, 53.40it/s]\u001b[A\u001b[A\n",
      "\n",
      "Repairing epochs:  31%|█████████████████████████████████▋                                                                         | 120/381 [00:02<00:05, 47.93it/s]\u001b[A\u001b[A\n",
      "\n",
      "Repairing epochs:  33%|███████████████████████████████████                                                                        | 125/381 [00:02<00:05, 42.75it/s]\u001b[A\u001b[A\n",
      "\n",
      "Repairing epochs:  34%|████████████████████████████████████▌                                                                      | 130/381 [00:02<00:05, 42.48it/s]\u001b[A\u001b[A\n",
      "\n",
      "Repairing epochs:  35%|█████████████████████████████████████▉                                                                     | 135/381 [00:02<00:05, 43.33it/s]\u001b[A\u001b[A\n",
      "\n",
      "Repairing epochs:  37%|███████████████████████████████████████▉                                                                   | 142/381 [00:02<00:04, 47.90it/s]\u001b[A\u001b[A\n",
      "\n",
      "Repairing epochs:  39%|█████████████████████████████████████████▌                                                                 | 148/381 [00:02<00:04, 49.53it/s]\u001b[A\u001b[A\n",
      "\n",
      "Repairing epochs:  40%|███████████████████████████████████████████▏                                                               | 154/381 [00:02<00:04, 50.86it/s]\u001b[A\u001b[A\n",
      "\n",
      "Repairing epochs:  42%|████████████████████████████████████████████▉                                                              | 160/381 [00:02<00:04, 51.66it/s]\u001b[A\u001b[A\n",
      "\n",
      "Repairing epochs:  44%|██████████████████████████████████████████████▉                                                            | 167/381 [00:03<00:04, 52.71it/s]\u001b[A\u001b[A\n",
      "\n",
      "Repairing epochs:  46%|█████████████████████████████████████████████████▍                                                         | 176/381 [00:03<00:03, 61.07it/s]\u001b[A\u001b[A\n",
      "\n",
      "Repairing epochs:  48%|███████████████████████████████████████████████████▍                                                       | 183/381 [00:03<00:03, 58.40it/s]\u001b[A\u001b[A\n",
      "\n",
      "Repairing epochs:  50%|█████████████████████████████████████████████████████                                                      | 189/381 [00:03<00:03, 58.28it/s]\u001b[A\u001b[A\n",
      "\n"
     ]
    },
    {
     "name": "stderr",
     "output_type": "stream",
     "text": [
      "Repairing epochs:  51%|██████████████████████████████████████████████████████▊                                                    | 195/381 [00:03<00:03, 48.14it/s]\u001b[A\u001b[A\n",
      "\n",
      "Repairing epochs:  53%|████████████████████████████████████████████████████████▍                                                  | 201/381 [00:03<00:03, 49.31it/s]\u001b[A\u001b[A\n",
      "\n",
      "Repairing epochs:  54%|██████████████████████████████████████████████████████████▏                                                | 207/381 [00:03<00:03, 51.02it/s]\u001b[A\u001b[A\n",
      "\n",
      "Repairing epochs:  56%|███████████████████████████████████████████████████████████▊                                               | 213/381 [00:03<00:03, 50.77it/s]\u001b[A\u001b[A\n",
      "\n",
      "Repairing epochs:  57%|█████████████████████████████████████████████████████████████▌                                             | 219/381 [00:04<00:03, 49.79it/s]\u001b[A\u001b[A\n",
      "\n",
      "Repairing epochs:  60%|████████████████████████████████████████████████████████████████                                           | 228/381 [00:04<00:02, 58.16it/s]\u001b[A\u001b[A\n",
      "\n",
      "Repairing epochs:  61%|█████████████████████████████████████████████████████████████████▋                                         | 234/381 [00:04<00:02, 51.44it/s]\u001b[A\u001b[A\n",
      "\n",
      "Repairing epochs:  63%|███████████████████████████████████████████████████████████████████▍                                       | 240/381 [00:04<00:02, 48.26it/s]\u001b[A\u001b[A\n",
      "\n",
      "Repairing epochs:  64%|████████████████████████████████████████████████████████████████████▊                                      | 245/381 [00:04<00:02, 47.89it/s]\u001b[A\u001b[A\n",
      "\n",
      "Repairing epochs:  66%|██████████████████████████████████████████████████████████████████████▍                                    | 251/381 [00:04<00:02, 46.73it/s]\u001b[A\u001b[A\n",
      "\n",
      "Repairing epochs:  67%|███████████████████████████████████████████████████████████████████████▉                                   | 256/381 [00:04<00:02, 46.61it/s]\u001b[A\u001b[A\n",
      "\n",
      "Repairing epochs:  69%|█████████████████████████████████████████████████████████████████████████▊                                 | 263/381 [00:04<00:02, 52.34it/s]\u001b[A\u001b[A\n",
      "\n",
      "Repairing epochs:  71%|████████████████████████████████████████████████████████████████████████████▍                              | 272/381 [00:05<00:01, 61.35it/s]\u001b[A\u001b[A\n",
      "\n",
      "Repairing epochs:  73%|██████████████████████████████████████████████████████████████████████████████▎                            | 279/381 [00:05<00:01, 53.10it/s]\u001b[A\u001b[A\n",
      "\n",
      "Repairing epochs:  75%|████████████████████████████████████████████████████████████████████████████████                           | 285/381 [00:05<00:01, 54.14it/s]\u001b[A\u001b[A\n",
      "\n",
      "Repairing epochs:  76%|█████████████████████████████████████████████████████████████████████████████████▋                         | 291/381 [00:05<00:01, 53.77it/s]\u001b[A\u001b[A\n",
      "\n",
      "Repairing epochs:  78%|███████████████████████████████████████████████████████████████████████████████████▍                       | 297/381 [00:05<00:01, 49.82it/s]\u001b[A\u001b[A\n",
      "\n",
      "Repairing epochs:  80%|█████████████████████████████████████████████████████████████████████████████████████                      | 303/381 [00:05<00:01, 45.42it/s]\u001b[A\u001b[A\n",
      "\n",
      "Repairing epochs:  82%|███████████████████████████████████████████████████████████████████████████████████████▎                   | 311/381 [00:05<00:01, 52.88it/s]\u001b[A\u001b[A\n",
      "\n",
      "Repairing epochs:  83%|█████████████████████████████████████████████████████████████████████████████████████████                  | 317/381 [00:05<00:01, 54.60it/s]\u001b[A\u001b[A\n",
      "\n",
      "Repairing epochs:  85%|██████████████████████████████████████████████████████████████████████████████████████████▉                | 324/381 [00:06<00:01, 54.37it/s]\u001b[A\u001b[A\n",
      "\n",
      "Repairing epochs:  87%|████████████████████████████████████████████████████████████████████████████████████████████▋              | 330/381 [00:06<00:00, 52.33it/s]\u001b[A\u001b[A\n",
      "\n",
      "Repairing epochs:  89%|██████████████████████████████████████████████████████████████████████████████████████████████▉            | 338/381 [00:06<00:00, 55.65it/s]\u001b[A\u001b[A\n",
      "\n",
      "Repairing epochs:  90%|████████████████████████████████████████████████████████████████████████████████████████████████▌          | 344/381 [00:06<00:00, 49.51it/s]\u001b[A\u001b[A\n",
      "\n",
      "Repairing epochs:  92%|██████████████████████████████████████████████████████████████████████████████████████████████████▎        | 350/381 [00:06<00:00, 48.53it/s]\u001b[A\u001b[A\n",
      "\n",
      "Repairing epochs:  93%|███████████████████████████████████████████████████████████████████████████████████████████████████▋       | 355/381 [00:06<00:00, 47.44it/s]\u001b[A\u001b[A\n",
      "\n",
      "Repairing epochs:  95%|█████████████████████████████████████████████████████████████████████████████████████████████████████▋     | 362/381 [00:06<00:00, 49.63it/s]\u001b[A\u001b[A\n",
      "\n",
      "Repairing epochs:  97%|███████████████████████████████████████████████████████████████████████████████████████████████████████▉   | 370/381 [00:06<00:00, 56.71it/s]\u001b[A\u001b[A\n",
      "\n",
      "Repairing epochs: 100%|███████████████████████████████████████████████████████████████████████████████████████████████████████████| 381/381 [00:07<00:00, 53.49it/s]\u001b[A\u001b[A\n",
      "\n",
      "\n",
      "\n",
      "Fold:   0%|                                                                                                                                  | 0/10 [00:00<?, ?it/s]\u001b[A\u001b[A\u001b[A\n",
      "\n",
      "\n",
      "Fold:  10%|████████████▏                                                                                                             | 1/10 [00:01<00:15,  1.76s/it]\u001b[A\u001b[A\u001b[A\n",
      "\n",
      "\n",
      "Fold:  20%|████████████████████████▍                                                                                                 | 2/10 [00:03<00:14,  1.76s/it]\u001b[A\u001b[A\u001b[A\n",
      "\n",
      "\n",
      "Fold:  30%|████████████████████████████████████▌                                                                                     | 3/10 [00:05<00:12,  1.79s/it]\u001b[A\u001b[A\u001b[A\n",
      "\n",
      "\n",
      "Fold:  40%|████████████████████████████████████████████████▊                                                                         | 4/10 [00:07<00:10,  1.77s/it]\u001b[A\u001b[A\u001b[A\n",
      "\n",
      "\n",
      "Fold:  50%|█████████████████████████████████████████████████████████████                                                             | 5/10 [00:08<00:08,  1.78s/it]\u001b[A\u001b[A\u001b[A\n",
      "\n",
      "\n",
      "Fold:  60%|█████████████████████████████████████████████████████████████████████████▏                                                | 6/10 [00:10<00:07,  1.76s/it]\u001b[A\u001b[A\u001b[A\n",
      "\n",
      "\n",
      "Fold:  70%|█████████████████████████████████████████████████████████████████████████████████████▍                                    | 7/10 [00:12<00:05,  1.75s/it]\u001b[A\u001b[A\u001b[A\n",
      "\n",
      "\n",
      "Fold:  80%|█████████████████████████████████████████████████████████████████████████████████████████████████▌                        | 8/10 [00:14<00:03,  1.74s/it]\u001b[A\u001b[A\u001b[A\n",
      "\n",
      "\n",
      "Fold:  90%|█████████████████████████████████████████████████████████████████████████████████████████████████████████████▊            | 9/10 [00:15<00:01,  1.75s/it]\u001b[A\u001b[A\u001b[A\n",
      "\n",
      "\n",
      "Fold: 100%|█████████████████████████████████████████████████████████████████████████████████████████████████████████████████████████| 10/10 [00:17<00:00,  1.75s/it]\u001b[A\u001b[A\u001b[A\n",
      "\n",
      "n_interp:  33%|███████████████████████████████████████▋                                                                               | 1/3 [00:25<00:50, 25.09s/it]\u001b[A\n",
      "\n",
      "Repairing epochs:   0%|                                                                                                                     | 0/381 [00:00<?, ?it/s]\u001b[A\u001b[A\n",
      "\n",
      "Repairing epochs:   2%|██▎                                                                                                          | 8/381 [00:00<00:05, 72.86it/s]\u001b[A\u001b[A\n",
      "\n",
      "Repairing epochs:   4%|████▌                                                                                                       | 16/381 [00:00<00:05, 64.90it/s]\u001b[A\u001b[A\n",
      "\n",
      "Repairing epochs:   6%|██████▊                                                                                                     | 24/381 [00:00<00:05, 69.38it/s]\u001b[A\u001b[A\n",
      "\n",
      "Repairing epochs:   9%|█████████▎                                                                                                  | 33/381 [00:00<00:04, 69.92it/s]\u001b[A\u001b[A\n",
      "\n",
      "Repairing epochs:  11%|███████████▌                                                                                                | 41/381 [00:00<00:04, 70.91it/s]\u001b[A\u001b[A\n",
      "\n"
     ]
    },
    {
     "name": "stderr",
     "output_type": "stream",
     "text": [
      "Repairing epochs:  13%|█████████████▉                                                                                              | 49/381 [00:00<00:05, 64.22it/s]\u001b[A\u001b[A\n",
      "\n",
      "Repairing epochs:  15%|███████████████▊                                                                                            | 56/381 [00:00<00:05, 61.61it/s]\u001b[A\u001b[A\n",
      "\n",
      "Repairing epochs:  17%|██████████████████▏                                                                                         | 64/381 [00:00<00:04, 66.33it/s]\u001b[A\u001b[A\n",
      "\n",
      "Repairing epochs:  19%|████████████████████▋                                                                                       | 73/381 [00:01<00:04, 70.14it/s]\u001b[A\u001b[A\n",
      "\n",
      "Repairing epochs:  21%|██████████████████████▉                                                                                     | 81/381 [00:01<00:04, 69.68it/s]\u001b[A\u001b[A\n",
      "\n",
      "Repairing epochs:  23%|█████████████████████████▏                                                                                  | 89/381 [00:01<00:04, 65.44it/s]\u001b[A\u001b[A\n",
      "\n",
      "Repairing epochs:  25%|███████████████████████████▏                                                                                | 96/381 [00:01<00:04, 57.89it/s]\u001b[A\u001b[A\n",
      "\n",
      "Repairing epochs:  27%|████████████████████████████▋                                                                              | 102/381 [00:01<00:04, 57.70it/s]\u001b[A\u001b[A\n",
      "\n",
      "Repairing epochs:  28%|██████████████████████████████▎                                                                            | 108/381 [00:01<00:05, 54.18it/s]\u001b[A\u001b[A\n",
      "\n",
      "Repairing epochs:  30%|████████████████████████████████                                                                           | 114/381 [00:01<00:05, 51.33it/s]\u001b[A\u001b[A\n",
      "\n",
      "Repairing epochs:  32%|█████████████████████████████████▉                                                                         | 121/381 [00:01<00:04, 54.48it/s]\u001b[A\u001b[A\n",
      "\n",
      "Repairing epochs:  33%|███████████████████████████████████▋                                                                       | 127/381 [00:02<00:04, 52.63it/s]\u001b[A\u001b[A\n",
      "\n",
      "Repairing epochs:  35%|█████████████████████████████████████▎                                                                     | 133/381 [00:02<00:05, 48.37it/s]\u001b[A\u001b[A\n",
      "\n",
      "Repairing epochs:  37%|███████████████████████████████████████▎                                                                   | 140/381 [00:02<00:04, 52.23it/s]\u001b[A\u001b[A\n",
      "\n",
      "Repairing epochs:  39%|█████████████████████████████████████████▎                                                                 | 147/381 [00:02<00:04, 55.13it/s]\u001b[A\u001b[A\n",
      "\n",
      "Repairing epochs:  40%|███████████████████████████████████████████▏                                                               | 154/381 [00:02<00:04, 55.41it/s]\u001b[A\u001b[A\n",
      "\n",
      "Repairing epochs:  42%|████████████████████████████████████████████▉                                                              | 160/381 [00:02<00:04, 52.57it/s]\u001b[A\u001b[A\n",
      "\n",
      "Repairing epochs:  44%|██████████████████████████████████████████████▉                                                            | 167/381 [00:02<00:03, 55.62it/s]\u001b[A\u001b[A\n",
      "\n",
      "Repairing epochs:  46%|█████████████████████████████████████████████████▋                                                         | 177/381 [00:02<00:03, 66.63it/s]\u001b[A\u001b[A\n",
      "\n",
      "Repairing epochs:  48%|███████████████████████████████████████████████████▋                                                       | 184/381 [00:03<00:02, 65.96it/s]\u001b[A\u001b[A\n",
      "\n",
      "Repairing epochs:  50%|█████████████████████████████████████████████████████▋                                                     | 191/381 [00:03<00:03, 60.60it/s]\u001b[A\u001b[A\n",
      "\n",
      "Repairing epochs:  52%|███████████████████████████████████████████████████████▌                                                   | 198/381 [00:03<00:03, 60.97it/s]\u001b[A\u001b[A\n",
      "\n",
      "Repairing epochs:  54%|█████████████████████████████████████████████████████████▊                                                 | 206/381 [00:03<00:02, 65.13it/s]\u001b[A\u001b[A\n",
      "\n",
      "Repairing epochs:  56%|███████████████████████████████████████████████████████████▊                                               | 213/381 [00:03<00:02, 62.14it/s]\u001b[A\u001b[A\n",
      "\n",
      "Repairing epochs:  58%|█████████████████████████████████████████████████████████████▊                                             | 220/381 [00:03<00:02, 62.74it/s]\u001b[A\u001b[A\n",
      "\n",
      "Repairing epochs:  60%|████████████████████████████████████████████████████████████████▌                                          | 230/381 [00:03<00:02, 71.02it/s]\u001b[A\u001b[A\n",
      "\n",
      "Repairing epochs:  62%|██████████████████████████████████████████████████████████████████▊                                        | 238/381 [00:03<00:02, 64.17it/s]\u001b[A\u001b[A\n",
      "\n",
      "Repairing epochs:  64%|████████████████████████████████████████████████████████████████████▊                                      | 245/381 [00:04<00:02, 61.72it/s]\u001b[A\u001b[A\n",
      "\n",
      "Repairing epochs:  66%|██████████████████████████████████████████████████████████████████████▊                                    | 252/381 [00:04<00:02, 60.09it/s]\u001b[A\u001b[A\n",
      "\n",
      "Repairing epochs:  68%|████████████████████████████████████████████████████████████████████████▋                                  | 259/381 [00:04<00:02, 60.37it/s]\u001b[A\u001b[A\n",
      "\n",
      "Repairing epochs:  70%|███████████████████████████████████████████████████████████████████████████▎                               | 268/381 [00:04<00:01, 67.33it/s]\u001b[A\u001b[A\n",
      "\n",
      "Repairing epochs:  72%|█████████████████████████████████████████████████████████████████████████████▏                             | 275/381 [00:04<00:01, 67.59it/s]\u001b[A\u001b[A\n",
      "\n",
      "Repairing epochs:  74%|███████████████████████████████████████████████████████████████████████████████▏                           | 282/381 [00:04<00:01, 62.16it/s]\u001b[A\u001b[A\n",
      "\n",
      "Repairing epochs:  76%|█████████████████████████████████████████████████████████████████████████████████▏                         | 289/381 [00:04<00:01, 61.32it/s]\u001b[A\u001b[A\n",
      "\n",
      "Repairing epochs:  78%|███████████████████████████████████████████████████████████████████████████████████▏                       | 296/381 [00:04<00:01, 61.47it/s]\u001b[A\u001b[A\n",
      "\n",
      "Repairing epochs:  80%|█████████████████████████████████████████████████████████████████████████████████████                      | 303/381 [00:05<00:01, 51.10it/s]\u001b[A\u001b[A\n",
      "\n",
      "Repairing epochs:  81%|██████████████████████████████████████████████████████████████████████████████████████▊                    | 309/381 [00:05<00:01, 51.57it/s]\u001b[A\u001b[A\n",
      "\n",
      "Repairing epochs:  83%|█████████████████████████████████████████████████████████████████████████████████████████                  | 317/381 [00:05<00:01, 58.52it/s]\u001b[A\u001b[A\n",
      "\n",
      "Repairing epochs:  85%|██████████████████████████████████████████████████████████████████████████████████████████▉                | 324/381 [00:05<00:01, 55.33it/s]\u001b[A\u001b[A\n",
      "\n",
      "Repairing epochs:  87%|█████████████████████████████████████████████████████████████████████████████████████████████▌             | 333/381 [00:05<00:00, 62.90it/s]\u001b[A\u001b[A\n",
      "\n",
      "Repairing epochs:  89%|███████████████████████████████████████████████████████████████████████████████████████████████▍           | 340/381 [00:05<00:00, 60.50it/s]\u001b[A\u001b[A\n",
      "\n",
      "Repairing epochs:  91%|█████████████████████████████████████████████████████████████████████████████████████████████████▍         | 347/381 [00:05<00:00, 61.73it/s]\u001b[A\u001b[A\n",
      "\n",
      "Repairing epochs:  93%|███████████████████████████████████████████████████████████████████████████████████████████████████▍       | 354/381 [00:05<00:00, 62.57it/s]\u001b[A\u001b[A\n",
      "\n",
      "Repairing epochs:  95%|█████████████████████████████████████████████████████████████████████████████████████████████████████▍     | 361/381 [00:06<00:00, 53.98it/s]\u001b[A\u001b[A\n",
      "\n",
      "Repairing epochs:  96%|███████████████████████████████████████████████████████████████████████████████████████████████████████    | 367/381 [00:06<00:00, 54.53it/s]\u001b[A\u001b[A\n",
      "\n",
      "Repairing epochs: 100%|███████████████████████████████████████████████████████████████████████████████████████████████████████████| 381/381 [00:06<00:00, 60.36it/s]\u001b[A\u001b[A\n",
      "\n",
      "\n",
      "\n",
      "Fold:   0%|                                                                                                                                  | 0/10 [00:00<?, ?it/s]\u001b[A\u001b[A\u001b[A\n",
      "\n",
      "\n"
     ]
    },
    {
     "name": "stderr",
     "output_type": "stream",
     "text": [
      "Fold:  10%|████████████▏                                                                                                             | 1/10 [00:01<00:14,  1.59s/it]\u001b[A\u001b[A\u001b[A\n",
      "\n",
      "\n",
      "Fold:  20%|████████████████████████▍                                                                                                 | 2/10 [00:03<00:12,  1.59s/it]\u001b[A\u001b[A\u001b[A\n",
      "\n",
      "\n",
      "Fold:  30%|████████████████████████████████████▌                                                                                     | 3/10 [00:04<00:11,  1.58s/it]\u001b[A\u001b[A\u001b[A\n",
      "\n",
      "\n",
      "Fold:  40%|████████████████████████████████████████████████▊                                                                         | 4/10 [00:06<00:09,  1.58s/it]\u001b[A\u001b[A\u001b[A\n",
      "\n",
      "\n",
      "Fold:  50%|█████████████████████████████████████████████████████████████                                                             | 5/10 [00:07<00:07,  1.59s/it]\u001b[A\u001b[A\u001b[A\n",
      "\n",
      "\n",
      "Fold:  60%|█████████████████████████████████████████████████████████████████████████▏                                                | 6/10 [00:09<00:06,  1.58s/it]\u001b[A\u001b[A\u001b[A\n",
      "\n",
      "\n",
      "Fold:  70%|█████████████████████████████████████████████████████████████████████████████████████▍                                    | 7/10 [00:11<00:04,  1.62s/it]\u001b[A\u001b[A\u001b[A\n",
      "\n",
      "\n",
      "Fold:  80%|█████████████████████████████████████████████████████████████████████████████████████████████████▌                        | 8/10 [00:12<00:03,  1.63s/it]\u001b[A\u001b[A\u001b[A\n",
      "\n",
      "\n",
      "Fold:  90%|█████████████████████████████████████████████████████████████████████████████████████████████████████████████▊            | 9/10 [00:14<00:01,  1.61s/it]\u001b[A\u001b[A\u001b[A\n",
      "\n",
      "\n",
      "Fold: 100%|█████████████████████████████████████████████████████████████████████████████████████████████████████████████████████████| 10/10 [00:15<00:00,  1.59s/it]\u001b[A\u001b[A\u001b[A\n",
      "\n",
      "n_interp:  67%|███████████████████████████████████████████████████████████████████████████████▎                                       | 2/3 [00:47<00:23, 23.62s/it]\u001b[A\n",
      "\n",
      "Repairing epochs:   0%|                                                                                                                     | 0/381 [00:00<?, ?it/s]\u001b[A\u001b[A\n",
      "\n",
      "Repairing epochs:   2%|██                                                                                                           | 7/381 [00:00<00:05, 68.58it/s]\u001b[A\u001b[A\n",
      "\n",
      "Repairing epochs:   4%|████▎                                                                                                       | 15/381 [00:00<00:05, 69.86it/s]\u001b[A\u001b[A\n",
      "\n",
      "Repairing epochs:   7%|███████                                                                                                     | 25/381 [00:00<00:04, 80.29it/s]\u001b[A\u001b[A\n",
      "\n",
      "Repairing epochs:   9%|█████████▋                                                                                                  | 34/381 [00:00<00:04, 78.63it/s]\u001b[A\u001b[A\n",
      "\n",
      "Repairing epochs:  11%|███████████▉                                                                                                | 42/381 [00:00<00:04, 73.25it/s]\u001b[A\u001b[A\n",
      "\n",
      "Repairing epochs:  13%|██████████████▏                                                                                             | 50/381 [00:00<00:04, 70.77it/s]\u001b[A\u001b[A\n",
      "\n",
      "Repairing epochs:  15%|████████████████▍                                                                                           | 58/381 [00:00<00:05, 60.78it/s]\u001b[A\u001b[A\n",
      "\n",
      "Repairing epochs:  17%|██████████████████▋                                                                                         | 66/381 [00:00<00:04, 65.52it/s]\u001b[A\u001b[A\n",
      "\n",
      "Repairing epochs:  20%|█████████████████████▎                                                                                      | 75/381 [00:01<00:04, 69.98it/s]\u001b[A\u001b[A\n",
      "\n",
      "Repairing epochs:  22%|███████████████████████▊                                                                                    | 84/381 [00:01<00:03, 74.70it/s]\u001b[A\u001b[A\n",
      "\n",
      "Repairing epochs:  24%|██████████████████████████                                                                                  | 92/381 [00:01<00:04, 69.71it/s]\u001b[A\u001b[A\n",
      "\n",
      "Repairing epochs:  26%|████████████████████████████                                                                               | 100/381 [00:01<00:04, 68.79it/s]\u001b[A\u001b[A\n",
      "\n",
      "Repairing epochs:  28%|██████████████████████████████▎                                                                            | 108/381 [00:01<00:04, 64.44it/s]\u001b[A\u001b[A\n",
      "\n",
      "Repairing epochs:  30%|████████████████████████████████▎                                                                          | 115/381 [00:01<00:04, 64.95it/s]\u001b[A\u001b[A\n",
      "\n",
      "Repairing epochs:  32%|██████████████████████████████████▎                                                                        | 122/381 [00:01<00:04, 57.33it/s]\u001b[A\u001b[A\n",
      "\n",
      "Repairing epochs:  34%|████████████████████████████████████▏                                                                      | 129/381 [00:01<00:04, 59.36it/s]\u001b[A\u001b[A\n",
      "\n",
      "Repairing epochs:  36%|██████████████████████████████████████▍                                                                    | 137/381 [00:02<00:03, 63.51it/s]\u001b[A\u001b[A\n",
      "\n",
      "Repairing epochs:  38%|████████████████████████████████████████▍                                                                  | 144/381 [00:02<00:04, 59.15it/s]\u001b[A\u001b[A\n",
      "\n",
      "Repairing epochs:  40%|██████████████████████████████████████████▍                                                                | 151/381 [00:02<00:04, 55.20it/s]\u001b[A\u001b[A\n",
      "\n",
      "Repairing epochs:  41%|████████████████████████████████████████████                                                               | 157/381 [00:02<00:04, 52.59it/s]\u001b[A\u001b[A\n",
      "\n",
      "Repairing epochs:  43%|█████████████████████████████████████████████▊                                                             | 163/381 [00:02<00:04, 52.39it/s]\u001b[A\u001b[A\n",
      "\n",
      "Repairing epochs:  45%|███████████████████████████████████████████████▋                                                           | 170/381 [00:02<00:03, 56.30it/s]\u001b[A\u001b[A\n",
      "\n",
      "Repairing epochs:  47%|██████████████████████████████████████████████████▎                                                        | 179/381 [00:02<00:03, 62.04it/s]\u001b[A\u001b[A\n",
      "\n",
      "Repairing epochs:  49%|████████████████████████████████████████████████████▏                                                      | 186/381 [00:02<00:03, 56.28it/s]\u001b[A\u001b[A\n",
      "\n",
      "Repairing epochs:  50%|█████████████████████████████████████████████████████▉                                                     | 192/381 [00:03<00:03, 53.74it/s]\u001b[A\u001b[A\n",
      "\n",
      "Repairing epochs:  52%|███████████████████████████████████████████████████████▌                                                   | 198/381 [00:03<00:03, 53.98it/s]\u001b[A\u001b[A\n",
      "\n",
      "Repairing epochs:  54%|█████████████████████████████████████████████████████████▊                                                 | 206/381 [00:03<00:02, 59.88it/s]\u001b[A\u001b[A\n",
      "\n",
      "Repairing epochs:  56%|███████████████████████████████████████████████████████████▊                                               | 213/381 [00:03<00:02, 61.94it/s]\u001b[A\u001b[A\n",
      "\n",
      "Repairing epochs:  58%|█████████████████████████████████████████████████████████████▊                                             | 220/381 [00:03<00:02, 55.58it/s]\u001b[A\u001b[A\n",
      "\n",
      "Repairing epochs:  60%|███████████████████████████████████████████████████████████████▊                                           | 227/381 [00:03<00:02, 57.76it/s]\u001b[A\u001b[A\n",
      "\n",
      "Repairing epochs:  62%|█████████████████████████████████████████████████████████████████▉                                         | 235/381 [00:03<00:02, 61.11it/s]\u001b[A\u001b[A\n",
      "\n",
      "Repairing epochs:  64%|███████████████████████████████████████████████████████████████████▉                                       | 242/381 [00:03<00:02, 60.45it/s]\u001b[A\u001b[A\n",
      "\n",
      "Repairing epochs:  65%|█████████████████████████████████████████████████████████████████████▉                                     | 249/381 [00:04<00:02, 60.39it/s]\u001b[A\u001b[A\n",
      "\n",
      "Repairing epochs:  67%|███████████████████████████████████████████████████████████████████████▉                                   | 256/381 [00:04<00:02, 54.43it/s]\u001b[A\u001b[A\n",
      "\n",
      "Repairing epochs:  69%|█████████████████████████████████████████████████████████████████████████▌                                 | 262/381 [00:04<00:02, 51.47it/s]\u001b[A\u001b[A\n",
      "\n"
     ]
    },
    {
     "name": "stderr",
     "output_type": "stream",
     "text": [
      "Repairing epochs:  72%|████████████████████████████████████████████████████████████████████████████▋                              | 273/381 [00:04<00:01, 62.37it/s]\u001b[A\u001b[A\n",
      "\n",
      "Repairing epochs:  73%|██████████████████████████████████████████████████████████████████████████████▋                            | 280/381 [00:04<00:01, 55.23it/s]\u001b[A\u001b[A\n",
      "\n",
      "Repairing epochs:  75%|████████████████████████████████████████████████████████████████████████████████▌                          | 287/381 [00:04<00:01, 55.18it/s]\u001b[A\u001b[A\n",
      "\n",
      "Repairing epochs:  77%|██████████████████████████████████████████████████████████████████████████████████▌                        | 294/381 [00:04<00:01, 56.74it/s]\u001b[A\u001b[A\n",
      "\n",
      "Repairing epochs:  79%|████████████████████████████████████████████████████████████████████████████████████▎                      | 300/381 [00:04<00:01, 54.22it/s]\u001b[A\u001b[A\n",
      "\n",
      "Repairing epochs:  80%|█████████████████████████████████████████████████████████████████████████████████████▉                     | 306/381 [00:05<00:01, 55.31it/s]\u001b[A\u001b[A\n",
      "\n",
      "Repairing epochs:  82%|████████████████████████████████████████████████████████████████████████████████████████▏                  | 314/381 [00:05<00:01, 59.91it/s]\u001b[A\u001b[A\n",
      "\n",
      "Repairing epochs:  84%|██████████████████████████████████████████████████████████████████████████████████████████▏                | 321/381 [00:05<00:00, 61.98it/s]\u001b[A\u001b[A\n",
      "\n",
      "Repairing epochs:  86%|████████████████████████████████████████████████████████████████████████████████████████████               | 328/381 [00:05<00:01, 48.38it/s]\u001b[A\u001b[A\n",
      "\n",
      "Repairing epochs:  88%|█████████████████████████████████████████████████████████████████████████████████████████████▊             | 334/381 [00:05<00:00, 48.12it/s]\u001b[A\u001b[A\n",
      "\n",
      "Repairing epochs:  89%|███████████████████████████████████████████████████████████████████████████████████████████████▍           | 340/381 [00:05<00:00, 47.79it/s]\u001b[A\u001b[A\n",
      "\n",
      "Repairing epochs:  91%|█████████████████████████████████████████████████████████████████████████████████████████████████▍         | 347/381 [00:05<00:00, 52.76it/s]\u001b[A\u001b[A\n",
      "\n",
      "Repairing epochs:  93%|███████████████████████████████████████████████████████████████████████████████████████████████████▏       | 353/381 [00:05<00:00, 53.51it/s]\u001b[A\u001b[A\n",
      "\n",
      "Repairing epochs:  94%|████████████████████████████████████████████████████████████████████████████████████████████████████▊      | 359/381 [00:06<00:00, 54.99it/s]\u001b[A\u001b[A\n",
      "\n",
      "Repairing epochs:  96%|██████████████████████████████████████████████████████████████████████████████████████████████████████▌    | 365/381 [00:06<00:00, 55.23it/s]\u001b[A\u001b[A\n",
      "\n",
      "Repairing epochs:  98%|████████████████████████████████████████████████████████████████████████████████████████████████████████▍  | 372/381 [00:06<00:00, 58.09it/s]\u001b[A\u001b[A\n",
      "\n",
      "Repairing epochs: 100%|███████████████████████████████████████████████████████████████████████████████████████████████████████████| 381/381 [00:06<00:00, 59.08it/s]\u001b[A\u001b[A\n",
      "\n",
      "\n",
      "\n",
      "Fold:   0%|                                                                                                                                  | 0/10 [00:00<?, ?it/s]\u001b[A\u001b[A\u001b[A\n",
      "\n",
      "\n",
      "Fold:  10%|████████████▏                                                                                                             | 1/10 [00:00<00:08,  1.11it/s]\u001b[A\u001b[A\u001b[A\n",
      "\n",
      "\n",
      "Fold:  20%|████████████████████████▍                                                                                                 | 2/10 [00:01<00:07,  1.10it/s]\u001b[A\u001b[A\u001b[A\n",
      "\n",
      "\n",
      "Fold:  30%|████████████████████████████████████▌                                                                                     | 3/10 [00:02<00:06,  1.09it/s]\u001b[A\u001b[A\u001b[A\n",
      "\n",
      "\n",
      "Fold:  40%|████████████████████████████████████████████████▊                                                                         | 4/10 [00:03<00:05,  1.12it/s]\u001b[A\u001b[A\u001b[A\n",
      "\n",
      "\n",
      "Fold:  50%|█████████████████████████████████████████████████████████████                                                             | 5/10 [00:04<00:04,  1.13it/s]\u001b[A\u001b[A\u001b[A\n",
      "\n",
      "\n",
      "Fold:  60%|█████████████████████████████████████████████████████████████████████████▏                                                | 6/10 [00:05<00:03,  1.14it/s]\u001b[A\u001b[A\u001b[A\n",
      "\n",
      "\n",
      "Fold:  70%|█████████████████████████████████████████████████████████████████████████████████████▍                                    | 7/10 [00:06<00:02,  1.12it/s]\u001b[A\u001b[A\u001b[A\n",
      "\n",
      "\n",
      "Fold:  80%|█████████████████████████████████████████████████████████████████████████████████████████████████▌                        | 8/10 [00:07<00:01,  1.12it/s]\u001b[A\u001b[A\u001b[A\n",
      "\n",
      "\n",
      "Fold:  90%|█████████████████████████████████████████████████████████████████████████████████████████████████████████████▊            | 9/10 [00:08<00:00,  1.11it/s]\u001b[A\u001b[A\u001b[A\n",
      "\n",
      "\n",
      "Fold: 100%|█████████████████████████████████████████████████████████████████████████████████████████████████████████████████████████| 10/10 [00:08<00:00,  1.12it/s]\u001b[A\u001b[A\u001b[A\n",
      "\n",
      "n_interp: 100%|███████████████████████████████████████████████████████████████████████████████████████████████████████████████████████| 3/3 [01:03<00:00, 21.07s/it]\u001b[A\n"
     ]
    },
    {
     "name": "stdout",
     "output_type": "stream",
     "text": [
      "\n",
      "\n",
      "\n",
      "\n",
      "Estimated consensus=0.30 and n_interpolate=4\n",
      "\n",
      "AUTOREJECT report\n",
      "There are 32 bad epochs found with Autoreject. You can assess these epochs with reject_log.bad_epochs\n",
      "\n",
      "There are 88 bad epochs where more than 15% of the channels were noisy. You can assess these epochs with reject_log.report\n"
     ]
    }
   ],
   "source": [
    "reject_log = run_autoreject(epochs_ica, n_jobs=11, subset=True)"
   ]
  },
  {
   "cell_type": "code",
   "execution_count": 20,
   "metadata": {},
   "outputs": [
    {
     "name": "stdout",
     "output_type": "stream",
     "text": [
      "Dropped 88 epochs: 8, 27, 33, 65, 165, 190, 206, 225, 277, 278, 280, 293, 317, 320, 328, 331, 333, 398, 401, 452, 463, 476, 495, 505, 507, 516, 517, 518, 558, 566, 588, 608, 625, 642, 659, 690, 712, 714, 720, 730, 761, 770, 775, 783, 795, 797, 848, 864, 871, 876, 898, 901, 908, 937, 978, 993, 994, 1023, 1024, 1035, 1060, 1120, 1121, 1126, 1147, 1148, 1154, 1174, 1175, 1182, 1222, 1239, 1245, 1248, 1273, 1300, 1342, 1358, 1359, 1360, 1375, 1384, 1391, 1413, 1445, 1448, 1454, 1468\n"
     ]
    }
   ],
   "source": [
    "# Here you can decide how strict should be the epoch rejection.\n",
    "# You can drop only those that were marked as bad epochs, or a more \n",
    "# strict rejection threshold can be if you drop epochs where more than\n",
    "# 15% of the channels were marked as noisy.\n",
    "\n",
    "# You can plot the epochs with Autoreject, where bad epochs are marked with\n",
    "# red colors. \n",
    "\n",
    "# reject_log.plot_epochs(epochs_faster)\n",
    "\n",
    "\n",
    "# rejecting only bad epochs\n",
    "# epochs_autoreject = epochs_faster.copy().drop(reject_log.bad_epochs, reason='AUTOREJECT')\n",
    "\n",
    "# rejecting those epochs too where more than 15% of the channels are marked as noisy\n",
    "#bads = np.where(np.count_nonzero(reject_log.labels, axis=1) > 0.15 * epochs_faster.info['nchan'])[0].tolist()\n",
    "\n",
    "# you can plot just the bad epochs to double check how strict this rejection is\n",
    "# if bads: \n",
    "#     epochs_faster[bads].plot(n_epochs=10,\n",
    "#                                 scalings={'eeg': 20e-6},\n",
    "#                                 n_channels=32)\n",
    "\n",
    "\n",
    "epochs_autoreject = epochs_ica.copy().drop(reject_log.report, reason='AUTOREJECT')"
   ]
  },
  {
   "cell_type": "code",
   "execution_count": 22,
   "metadata": {
    "pycharm": {
     "is_executing": true
    }
   },
   "outputs": [
    {
     "name": "stdout",
     "output_type": "stream",
     "text": [
      "17_E_Day1_ICA_autoreject\n"
     ]
    }
   ],
   "source": [
    "# save clean epochs\n",
    "fid = epochs_ica.info['temp']\n",
    "epochs_autoreject.info.update(temp=f'{fid}_autoreject')\n",
    "\n",
    "print(epochs_autoreject.info['temp'])\n",
    "postfix = '-epo.fif.gz'\n",
    "epochs_autoreject.save(os.path.join(epochs_path, f'{epochs_autoreject.info[\"temp\"]}{postfix}'), overwrite=True)"
   ]
  },
  {
   "cell_type": "code",
   "execution_count": 23,
   "metadata": {},
   "outputs": [
    {
     "data": {
      "text/plain": [
       "'17_E_Day1_ICA_autoreject'"
      ]
     },
     "execution_count": 23,
     "metadata": {},
     "output_type": "execute_result"
    }
   ],
   "source": [
    "epochs_autoreject.info['temp']"
   ]
  },
  {
   "cell_type": "code",
   "execution_count": 24,
   "metadata": {},
   "outputs": [
    {
     "data": {
      "text/html": [
       "<div>\n",
       "<style scoped>\n",
       "    .dataframe tbody tr th:only-of-type {\n",
       "        vertical-align: middle;\n",
       "    }\n",
       "\n",
       "    .dataframe tbody tr th {\n",
       "        vertical-align: top;\n",
       "    }\n",
       "\n",
       "    .dataframe thead th {\n",
       "        text-align: right;\n",
       "    }\n",
       "</style>\n",
       "<table border=\"1\" class=\"dataframe\">\n",
       "  <thead>\n",
       "    <tr style=\"text-align: right;\">\n",
       "      <th></th>\n",
       "      <th>fid</th>\n",
       "      <th>highpass</th>\n",
       "      <th>lowpass</th>\n",
       "      <th>n_components</th>\n",
       "      <th>n_bad_epochs</th>\n",
       "      <th>n_total_epochs</th>\n",
       "      <th>drop_percentage</th>\n",
       "      <th>stimuli</th>\n",
       "      <th>t_min</th>\n",
       "      <th>t_max</th>\n",
       "      <th>n_interpolated</th>\n",
       "      <th>average_ref_applied</th>\n",
       "      <th>baseline</th>\n",
       "      <th>notes</th>\n",
       "      <th>date_of_update</th>\n",
       "    </tr>\n",
       "  </thead>\n",
       "  <tbody>\n",
       "    <tr>\n",
       "      <th>0</th>\n",
       "      <td>17_E_Day1_ICA_autoreject</td>\n",
       "      <td>0.5</td>\n",
       "      <td>45.0</td>\n",
       "      <td>1.0</td>\n",
       "      <td>194</td>\n",
       "      <td>1436</td>\n",
       "      <td>11.9</td>\n",
       "      <td>[10, 11, 12, 14, 15, 16]</td>\n",
       "      <td>-0.25</td>\n",
       "      <td>0.75</td>\n",
       "      <td>NaN</td>\n",
       "      <td>False</td>\n",
       "      <td>NaN</td>\n",
       "      <td></td>\n",
       "      <td>2021-11-25T15:40:10.273933</td>\n",
       "    </tr>\n",
       "  </tbody>\n",
       "</table>\n",
       "</div>"
      ],
      "text/plain": [
       "                        fid  highpass  lowpass  n_components  n_bad_epochs  \\\n",
       "0  17_E_Day1_ICA_autoreject       0.5     45.0           1.0           194   \n",
       "\n",
       "   n_total_epochs  drop_percentage                   stimuli  t_min  t_max  \\\n",
       "0            1436             11.9  [10, 11, 12, 14, 15, 16]  -0.25   0.75   \n",
       "\n",
       "   n_interpolated  average_ref_applied  baseline notes  \\\n",
       "0             NaN                False       NaN         \n",
       "\n",
       "               date_of_update  \n",
       "0  2021-11-25T15:40:10.273933  "
      ]
     },
     "execution_count": 24,
     "metadata": {},
     "output_type": "execute_result"
    }
   ],
   "source": [
    "update_log(log_file_path, epochs_autoreject, '')"
   ]
  },
  {
   "cell_type": "code",
   "execution_count": 25,
   "metadata": {},
   "outputs": [
    {
     "data": {
      "text/plain": [
       "'n_components: 1'"
      ]
     },
     "execution_count": 25,
     "metadata": {},
     "output_type": "execute_result"
    }
   ],
   "source": [
    "epochs_autoreject.info['description']"
   ]
  },
  {
   "cell_type": "markdown",
   "metadata": {},
   "source": [
    "### 3. Run ransac"
   ]
  },
  {
   "cell_type": "code",
   "execution_count": 26,
   "metadata": {},
   "outputs": [
    {
     "name": "stdout",
     "output_type": "stream",
     "text": [
      "Creating RawArray with float64 data, n_channels=64, n_times=719436\n",
      "    Range : 0 ... 719435 =      0.000 ...  1438.870 secs\n",
      "Ready.\n",
      "Executing RANSAC\n",
      "This may take a while, so be patient...\n",
      "Progress: 10%... 20%... 30%... 40%... 50%... 60%... 70%... 80%... 90%... 100%\n",
      "\n",
      "RANSAC done!\n",
      "\n",
      "NoisyChannels REPORT\n",
      "------------------------\n",
      "8.0% of the channels were detected as noisy.\n",
      "(5) channels: P3, AF7, Fp2, Fp1, CP5\n"
     ]
    }
   ],
   "source": [
    "bads = get_noisy_channels(epochs=epochs_autoreject, with_ransac=True)"
   ]
  },
  {
   "cell_type": "code",
   "execution_count": 27,
   "metadata": {},
   "outputs": [
    {
     "name": "stdout",
     "output_type": "stream",
     "text": [
      "Interpolating bad channels\n",
      "    Automatic origin fit: head of radius 95.0 mm\n",
      "Computing interpolation matrix from 59 sensor positions\n",
      "Interpolating 5 sensors\n"
     ]
    }
   ],
   "source": [
    "epochs_ransac = interpolate_bad_channels(epochs=epochs_autoreject, bads=bads)"
   ]
  },
  {
   "cell_type": "code",
   "execution_count": 28,
   "metadata": {},
   "outputs": [
    {
     "name": "stdout",
     "output_type": "stream",
     "text": [
      "1 93\n",
      "2 92\n",
      "3 78\n",
      "4 76\n",
      "5 65\n"
     ]
    }
   ],
   "source": [
    "# Check how many trials are left for each condition per epoch\n",
    "for i in range(5):\n",
    "    print(i+1, epochs_ransac[f\"epoch == {i+1}& triplet == 'L'\"].average().nave)"
   ]
  },
  {
   "cell_type": "code",
   "execution_count": 29,
   "metadata": {
    "pycharm": {
     "is_executing": true
    }
   },
   "outputs": [
    {
     "name": "stdout",
     "output_type": "stream",
     "text": [
      "<Info | 10 non-empty values\n",
      " bads: []\n",
      " ch_names: Fp1, Fz, F3, F7, FT9, FC5, FC1, C3, T7, TP9, CP5, CP1, Pz, P3, ...\n",
      " chs: 64 EEG\n",
      " custom_ref_applied: False\n",
      " description: n_components: 1, interpolated: P3, AF7, Fp2, Fp1, CP5\n",
      " dig: 64 items (64 EEG)\n",
      " highpass: 0.5 Hz\n",
      " lowpass: 45.0 Hz\n",
      " meas_date: 2020-12-17 09:26:36 UTC\n",
      " nchan: 64\n",
      " projs: []\n",
      " sfreq: 500.0 Hz\n",
      " temp: 17_E_Day1_ICA_autoreject\n",
      ">\n"
     ]
    }
   ],
   "source": [
    "# inspect which sensors were interpolated (if any)\n",
    "print(epochs_ransac.info)"
   ]
  },
  {
   "cell_type": "markdown",
   "metadata": {},
   "source": [
    "## 4. Final visual inspection\n",
    "\n",
    "Mark epochs that should be dropped,  etc."
   ]
  },
  {
   "cell_type": "code",
   "execution_count": null,
   "metadata": {
    "pycharm": {
     "is_executing": true
    }
   },
   "outputs": [],
   "source": [
    "# use indexing to plot fewer epochs (faster) e.g. [::7] shows only every 7th epoch\n",
    "epochs_ransac[::7].plot(n_epochs=10,\n",
    "                       n_channels=32,\n",
    "                # group_by='position',\n",
    "                       scalings={'eeg': 20e-6})"
   ]
  },
  {
   "cell_type": "markdown",
   "metadata": {},
   "source": [
    "### 5.2. Set average reference\n",
    "\n",
    "To set a “virtual reference” that is the average of all channels, you can use set_eeg_reference() with ref_channels='average'."
   ]
  },
  {
   "cell_type": "code",
   "execution_count": 30,
   "metadata": {
    "pycharm": {
     "is_executing": true
    }
   },
   "outputs": [
    {
     "name": "stdout",
     "output_type": "stream",
     "text": [
      "EEG channel type selected for re-referencing\n",
      "Applying average reference.\n",
      "Applying a custom ('EEG',) reference.\n"
     ]
    },
    {
     "data": {
      "text/html": [
       "\n",
       "<table class=\"table table-hover table-striped table-sm table-responsive small\">\n",
       "    <tr>\n",
       "        <th>Number of events</th>\n",
       "        <td>1436</td>\n",
       "    </tr>\n",
       "    <tr>\n",
       "        <th>Events</th>\n",
       "        <td>10: 153<br>11: 620<br>12: 151<br>14: 50<br>15: 209<br>16: 253<br></td>\n",
       "    </tr>\n",
       "    <tr>\n",
       "        <th>Time range</th>\n",
       "        <td>-0.250 – 0.750 sec</td>\n",
       "    </tr>\n",
       "    <tr>\n",
       "        <th>Baseline</th>\n",
       "        <td>off</td>\n",
       "    </tr>\n",
       "</table>\n"
      ],
      "text/plain": [
       "<Epochs |  1436 events (all good), -0.25 - 0.75 sec, baseline off, ~351.4 MB, data loaded, with metadata,\n",
       " '10': 153\n",
       " '11': 620\n",
       " '12': 151\n",
       " '14': 50\n",
       " '15': 209\n",
       " '16': 253>"
      ]
     },
     "execution_count": 30,
     "metadata": {},
     "output_type": "execute_result"
    }
   ],
   "source": [
    "epochs_ransac.set_eeg_reference('average')"
   ]
  },
  {
   "cell_type": "markdown",
   "metadata": {},
   "source": [
    "## 6. Save cleaned epochs"
   ]
  },
  {
   "cell_type": "code",
   "execution_count": 31,
   "metadata": {},
   "outputs": [
    {
     "name": "stdout",
     "output_type": "stream",
     "text": [
      "17_E_Day1_ICA_autoreject_ransac\n"
     ]
    }
   ],
   "source": [
    "epochs_ransac.plot_drop_log()\n",
    "\n",
    "# save clean epochs\n",
    "fid = epochs_autoreject.info['temp']\n",
    "epochs_ransac.info.update(temp=f'{fid}_ransac')\n",
    "\n",
    "print(epochs_ransac.info[\"temp\"])\n",
    "postfix = '-epo.fif.gz'\n",
    "epochs_ransac.save(os.path.join(epochs_path, f'{epochs_ransac.info[\"temp\"]}{postfix}'), overwrite=True)"
   ]
  },
  {
   "cell_type": "code",
   "execution_count": 32,
   "metadata": {},
   "outputs": [
    {
     "data": {
      "text/html": [
       "<div>\n",
       "<style scoped>\n",
       "    .dataframe tbody tr th:only-of-type {\n",
       "        vertical-align: middle;\n",
       "    }\n",
       "\n",
       "    .dataframe tbody tr th {\n",
       "        vertical-align: top;\n",
       "    }\n",
       "\n",
       "    .dataframe thead th {\n",
       "        text-align: right;\n",
       "    }\n",
       "</style>\n",
       "<table border=\"1\" class=\"dataframe\">\n",
       "  <thead>\n",
       "    <tr style=\"text-align: right;\">\n",
       "      <th></th>\n",
       "      <th>fid</th>\n",
       "      <th>highpass</th>\n",
       "      <th>lowpass</th>\n",
       "      <th>n_components</th>\n",
       "      <th>n_bad_epochs</th>\n",
       "      <th>n_total_epochs</th>\n",
       "      <th>drop_percentage</th>\n",
       "      <th>stimuli</th>\n",
       "      <th>t_min</th>\n",
       "      <th>t_max</th>\n",
       "      <th>n_interpolated</th>\n",
       "      <th>average_ref_applied</th>\n",
       "      <th>baseline</th>\n",
       "      <th>notes</th>\n",
       "      <th>date_of_update</th>\n",
       "    </tr>\n",
       "  </thead>\n",
       "  <tbody>\n",
       "    <tr>\n",
       "      <th>0</th>\n",
       "      <td>17_E_Day1_ICA_autoreject_ransac</td>\n",
       "      <td>0.5</td>\n",
       "      <td>45.0</td>\n",
       "      <td>1.0</td>\n",
       "      <td>194</td>\n",
       "      <td>1436</td>\n",
       "      <td>11.9</td>\n",
       "      <td>[10, 11, 12, 14, 15, 16]</td>\n",
       "      <td>-0.25</td>\n",
       "      <td>0.75</td>\n",
       "      <td>5.0</td>\n",
       "      <td>True</td>\n",
       "      <td>NaN</td>\n",
       "      <td></td>\n",
       "      <td>2021-11-25T15:41:48.822459</td>\n",
       "    </tr>\n",
       "  </tbody>\n",
       "</table>\n",
       "</div>"
      ],
      "text/plain": [
       "                               fid  highpass  lowpass  n_components  \\\n",
       "0  17_E_Day1_ICA_autoreject_ransac       0.5     45.0           1.0   \n",
       "\n",
       "   n_bad_epochs  n_total_epochs  drop_percentage                   stimuli  \\\n",
       "0           194            1436             11.9  [10, 11, 12, 14, 15, 16]   \n",
       "\n",
       "   t_min  t_max  n_interpolated  average_ref_applied  baseline notes  \\\n",
       "0  -0.25   0.75             5.0                 True       NaN         \n",
       "\n",
       "               date_of_update  \n",
       "0  2021-11-25T15:41:48.822459  "
      ]
     },
     "execution_count": 32,
     "metadata": {},
     "output_type": "execute_result"
    }
   ],
   "source": [
    "notes = ''\n",
    "update_log(log_file_path, epochs_ransac, notes)"
   ]
  },
  {
   "cell_type": "markdown",
   "metadata": {},
   "source": [
    "## Time-frequency analysis\n",
    "### Evoked\n"
   ]
  },
  {
   "cell_type": "code",
   "execution_count": null,
   "metadata": {},
   "outputs": [],
   "source": [
    "# Subset channels\n",
    "\n",
    "ch_names = ['F7', 'F5', 'F3', 'FC5', 'FC3',\n",
    "           'F1', 'Fz', 'F2', 'FC1', 'FCz', 'FC2',\n",
    "           'F4', 'F6', 'F8', 'FC4', 'FC6',\n",
    "           'FT7', 'T7', 'TP7', \n",
    "           'C3', 'Cz', 'C4',\n",
    "           'FT8', 'T8', 'TP8',\n",
    "           'CP5', 'CP3', 'P7', 'P5', 'P3',\n",
    "           'CP1', 'CPz', 'CP2', 'P1', 'Pz', 'P2',\n",
    "           'CP4', 'CP6', 'P4', 'P6', 'P8',\n",
    "           'PO3', 'PO7', 'O1',\n",
    "           'PO4', 'PO8', 'O2',]\n",
    "\n",
    "epochs_evoked = epochs_ransac.copy().pick_channels(ch_names, ordered=True)"
   ]
  },
  {
   "cell_type": "code",
   "execution_count": null,
   "metadata": {},
   "outputs": [],
   "source": [
    "epochs_evoked.info"
   ]
  },
  {
   "cell_type": "code",
   "execution_count": null,
   "metadata": {},
   "outputs": [],
   "source": [
    "epochs_evoked.comment = epochs_ransac.info['fid'].split('_')[0]\n",
    "    \n",
    "e1_H = epochs_evoked[\"epoch == 1 & triplet == 'H'\"].average()\n",
    "e1_H.apply_baseline((-0.2, 0.0))\n",
    "e1_H.comment = f\"{epochs_evoked.comment}_e1_H\"\n",
    "    \n",
    "e1_L = epochs_evoked[\"epoch == 1 & triplet == 'L'\"].average()\n",
    "e1_L.apply_baseline((-0.2, 0.0))\n",
    "e1_L.comment = f\"{epochs_evoked.comment}_e1_L\"\n",
    "    \n",
    "e2_H = epochs_evoked[\"epoch == 2 & triplet == 'H'\"].average()\n",
    "e2_H.apply_baseline((-0.2, 0.0))\n",
    "e2_H.comment = f\"{epochs_evoked.comment}_e2_H\"\n",
    "    \n",
    "e2_L = epochs_evoked[\"epoch == 2 & triplet == 'L'\"].average()\n",
    "e2_L.apply_baseline((-0.2, 0.0))\n",
    "e2_L.comment = f\"{epochs_evoked.comment}_e2_L\"\n",
    "    \n",
    "e3_H = epochs_evoked[\"epoch == 3 & triplet == 'H'\"].average()\n",
    "e3_H.apply_baseline((-0.2, 0.0))\n",
    "e3_H.comment = f\"{epochs_evoked.comment}_e3_H\"\n",
    "    \n",
    "e3_L = epochs_evoked[\"epoch == 3 & triplet == 'L'\"].average()\n",
    "e3_L.apply_baseline((-0.2, 0.0))\n",
    "e3_L.comment = f\"{epochs_evoked.comment}_e3_L\"\n",
    "    \n",
    "e4_H = epochs_evoked[\"epoch == 4 & triplet == 'H'\"].average()\n",
    "e4_H.apply_baseline((-0.2, 0.0))\n",
    "e4_H.comment = f\"{epochs_evoked.comment}_e4_H\"\n",
    "    \n",
    "e4_L = epochs_evoked[\"epoch == 4 & triplet == 'L'\"].average()\n",
    "e4_L.apply_baseline((-0.2, 0.0))\n",
    "e4_L.comment = f\"{epochs_evoked.comment}_e4_L\"\n",
    "    \n",
    "e5_H = epochs_evoked[\"epoch == 5 & triplet == 'H'\"].average()\n",
    "e5_H.apply_baseline((-0.2, 0.0))\n",
    "e5_H.comment = f\"{epochs_evoked.comment}_e5_H\"\n",
    "    \n",
    "e5_L = epochs_evoked[\"epoch == 5 & triplet == 'L'\"].average()\n",
    "e5_L.apply_baseline((-0.2, 0.0))\n",
    "e5_L.comment = f\"{epochs_evoked.comment}_e5_L\"\n",
    "    \n",
    "fig, ax = plt.subplots(3, 5, figsize=(11.69,8.27), sharex=True)\n",
    "fig.suptitle(epochs_evoked.info['description'])\n",
    "mne.viz.plot_compare_evokeds([e1_H, e1_L], combine='mean', axes=ax[0,0], show=False)\n",
    "mne.viz.plot_compare_evokeds([e2_H, e2_L], combine='mean', axes=ax[0,1], show=False)\n",
    "mne.viz.plot_compare_evokeds([e3_H, e3_L], combine='mean', axes=ax[0,2], show=False)\n",
    "mne.viz.plot_compare_evokeds([e4_H, e4_L], combine='mean', axes=ax[0,3], show=False)\n",
    "mne.viz.plot_compare_evokeds([e5_H, e5_L], combine='mean', axes=ax[0,4], show=False)\n",
    "e1_H.plot(spatial_colors=True, axes=ax[1,0], window_title='', show=False)\n",
    "e1_L.plot(spatial_colors=True, axes=ax[2,0], window_title='', show=False)\n",
    "e2_H.plot(spatial_colors=True, axes=ax[1,1], window_title='', show=False)\n",
    "e2_L.plot(spatial_colors=True, axes=ax[2,1], window_title='', show=False)\n",
    "e3_H.plot(spatial_colors=True, axes=ax[1,2], window_title='', show=False)\n",
    "e3_L.plot(spatial_colors=True, axes=ax[2,2], window_title='', show=False)\n",
    "e4_H.plot(spatial_colors=True, axes=ax[1,3], window_title='', show=False)\n",
    "e4_L.plot(spatial_colors=True, axes=ax[2,3], window_title='', show=False)\n",
    "e5_H.plot(spatial_colors=True, axes=ax[1,4], window_title='', show=False)\n",
    "e5_L.plot(spatial_colors=True, axes=ax[2,4], window_title='', show=False)\n",
    "ax[1,0].set_title('')\n",
    "ax[1,1].set_title('')\n",
    "ax[1,2].set_title('')\n",
    "ax[1,3].set_title('')\n",
    "ax[1,4].set_title('')\n",
    "ax[2,0].set_title('')\n",
    "ax[2,1].set_title('')\n",
    "ax[2,2].set_title('')\n",
    "ax[2,3].set_title('')\n",
    "ax[2,4].set_title('')\n",
    "fig.savefig(os.path.join(epochs_path, f'{epochs_evoked.comment}_E_evoked.pdf', ),dpi=200)\n",
    "fig.show()"
   ]
  },
  {
   "cell_type": "code",
   "execution_count": null,
   "metadata": {},
   "outputs": [],
   "source": [
    "fig, ax = plt.subplots(1, 1, figsize=(11.69,8.27), sharex=True)\n",
    "e1_H.plot_topo(axes=ax)"
   ]
  },
  {
   "cell_type": "code",
   "execution_count": null,
   "metadata": {},
   "outputs": [],
   "source": [
    "fig, ax = plt.subplots(1, 1, figsize=(11.69,8.27), sharex=True)\n",
    "e1_L.plot_topo(axes=ax)"
   ]
  },
  {
   "cell_type": "code",
   "execution_count": null,
   "metadata": {},
   "outputs": [],
   "source": [
    "epochs_evoked[\"epoch == 1 & triplet == 'H'\"].plot_psd()"
   ]
  },
  {
   "cell_type": "code",
   "execution_count": null,
   "metadata": {},
   "outputs": [],
   "source": []
  }
 ],
 "metadata": {
  "kernelspec": {
   "display_name": "Python 3 (ipykernel)",
   "language": "python",
   "name": "python3"
  },
  "language_info": {
   "codemirror_mode": {
    "name": "ipython",
    "version": 3
   },
   "file_extension": ".py",
   "mimetype": "text/x-python",
   "name": "python",
   "nbconvert_exporter": "python",
   "pygments_lexer": "ipython3",
   "version": "3.7.11"
  }
 },
 "nbformat": 4,
 "nbformat_minor": 1
}
